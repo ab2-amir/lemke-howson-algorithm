{
 "cells": [
  {
   "cell_type": "code",
   "execution_count": 2,
   "metadata": {},
   "outputs": [],
   "source": [
    "# Réaliser par :\n",
    "\n",
    "# AMIR Abderrahmane\n",
    "# BELLACHE Adam\n",
    "# DIAB Hicham\n",
    "# BOUTICHE Ahmad "
   ]
  },
  {
   "cell_type": "code",
   "execution_count": 3,
   "metadata": {},
   "outputs": [],
   "source": [
    "def drop(P_labels, Q_labels, to_drop):\n",
    "    global state\n",
    "    found = False\n",
    "\n",
    "    if(state[0] == \"a\"):\n",
    "        index1 = 0\n",
    "    elif(state[0] == \"b\"):\n",
    "        index1 = 1\n",
    "    elif(state[0] == \"c\"):\n",
    "        index1 = 2\n",
    "    elif(state[0] == \"d\"):\n",
    "        index1 = 3\n",
    "\n",
    "    if(state[1] == \"w\"):\n",
    "        index2 = 0\n",
    "    elif(state[1] == \"z\"):\n",
    "        index2 = 1\n",
    "    elif(state[1] == \"y\"):\n",
    "        index2 = 2\n",
    "    elif(state[1] == \"x\"):\n",
    "        index2 = 3\n",
    "\n",
    "    i = 0\n",
    "    j = 0\n",
    "\n",
    "    if(to_drop == 0):\n",
    "        if(P_labels[index1][1] == 0):\n",
    "            var = P_labels[index1][2] #save index which is not dropped (1)\n",
    "        else:\n",
    "            var = P_labels[index1][1]\n",
    "\n",
    "        \n",
    "        while(i < len(P_labels) and not found): #search label with same index (index en commun)\n",
    "            if(i == index1):\n",
    "                i += 1\n",
    "            if(P_labels[i][1] == var or P_labels[i][2] == var):\n",
    "                state = (P_labels[i][0], state[1])\n",
    "                found = True\n",
    "            i += 1\n",
    "    elif(to_drop == 1):\n",
    "        if(P_labels[index1][1] == 1):\n",
    "            var = P_labels[index1][2] #save index which is not dropped (2)\n",
    "        else:\n",
    "            var = P_labels[index1][1]\n",
    "        while(i < len(P_labels) and not found): #search label with same index (index en commun)\n",
    "            if(i == index1):\n",
    "                i += 1\n",
    "            if(P_labels[i][1] == var or P_labels[i][2] == var):\n",
    "                state = (P_labels[i][0], state[1])\n",
    "                found = True\n",
    "            i += 1\n",
    "    elif(to_drop == 2):\n",
    "        if(Q_labels[index2][1] == 2):\n",
    "            var = Q_labels[index2][2] #save index which is not dropped (3)\n",
    "        else:\n",
    "            var = Q_labels[index2][1]\n",
    "        while(j < len(Q_labels) and not found): #search label with same index (index en commun)\n",
    "            if(j == index2):\n",
    "                j += 1\n",
    "            if(Q_labels[j][1] == var or Q_labels[j][2] == var):\n",
    "                state = (state[0], Q_labels[j][0])\n",
    "                found = True\n",
    "            j += 1\n",
    "    elif(to_drop == 3):\n",
    "        if(Q_labels[index2][1] == 3):\n",
    "            var = Q_labels[index2][2] #save index which is not dropped (2)\n",
    "        else:\n",
    "            var = Q_labels[index2][1]\n",
    "        while(j < len(Q_labels) and not found): #search label with same index (index en commun)\n",
    "            if(j == index2):\n",
    "                j += 1\n",
    "            if(Q_labels[j][1] == var or Q_labels[j][2] == var):\n",
    "                state = (state[0], Q_labels[j][0])\n",
    "                found = True\n",
    "            j += 1  \n"
   ]
  },
  {
   "cell_type": "code",
   "execution_count": 4,
   "metadata": {},
   "outputs": [],
   "source": [
    "def pickup(state, P_labels, Q_labels):\n",
    "    i = 0\n",
    "    found = False\n",
    "\n",
    "    while(i < len(P_labels) and not found):\n",
    "        if(P_labels[i][0] == state[0]):\n",
    "            t1 = (P_labels[i][1], P_labels[i][2])\n",
    "            found = True\n",
    "        i += 1\n",
    "\n",
    "    i = 0\n",
    "    found = False\n",
    "\n",
    "    while(i < len(Q_labels) and not found):\n",
    "        if(Q_labels[i][0] == state[1]):\n",
    "            t2 = (Q_labels[i][1], Q_labels[i][2])\n",
    "            found = True\n",
    "        i += 1\n",
    "\n",
    "    #index en commun\n",
    "    res = [ele1 for ele1 in t1\n",
    "    for ele2 in t2 if ele1 == ele2]\n",
    "\n",
    "    return res"
   ]
  },
  {
   "cell_type": "code",
   "execution_count": 5,
   "metadata": {},
   "outputs": [],
   "source": [
    "def get_state_tuple(s1, s2, P_labels, Q_labels):\n",
    "    found = False\n",
    "    i = 0\n",
    "    #récuperer les labels associer à state[0]\n",
    "    while(i < len(P_labels) and not found):\n",
    "        if(P_labels[i][0] == s1):\n",
    "            t1 = (P_labels[i][1], P_labels[i][2])\n",
    "            found = True\n",
    "        i += 1\n",
    "    \n",
    "    found = False\n",
    "    i = 0\n",
    "    #récuperer les labels associer à state[1]\n",
    "    while(i < len(Q_labels) and not found):\n",
    "        if(Q_labels[i][0] == s2):\n",
    "            t2 = (Q_labels[i][1], Q_labels[i][2])\n",
    "            found = True\n",
    "        i += 1\n",
    "    \n",
    "    return t1, t2"
   ]
  },
  {
   "cell_type": "code",
   "execution_count": 6,
   "metadata": {},
   "outputs": [],
   "source": [
    "def get_Enash(state, P_coord, Q_coord):\n",
    "    i = 0\n",
    "    found = False\n",
    "    #récuperer les coordonées de state[0] final\n",
    "    while(i < len(P_coord) and not found):\n",
    "        if(state[0] == P_coord[i][0]):\n",
    "            res1 = (P_coord[i][1], P_coord[i][2])\n",
    "            found = True\n",
    "        i += 1\n",
    "    \n",
    "    i = 0\n",
    "    found = False\n",
    "    #récuperer les coordonées de state[1] final\n",
    "    while(i < len(Q_coord) and not found):\n",
    "        if(state[1] == Q_coord[i][0]):\n",
    "            res2 = (Q_coord[i][1], Q_coord[i][2])\n",
    "            found = True\n",
    "        i += 1\n",
    "\n",
    "    print(\"coord: \", res1, res2)\n",
    "    #normalisation des coordonées obtenue pour que leur somme soit égale à 1 (probabilité)\n",
    "    res1_norm = (res1[0]/(res1[0]+res1[1]), res1[1]/(res1[0]+res1[1]))\n",
    "    res2_norm = (res2[0]/(res2[0]+res2[1]), res2[1]/(res2[0]+res2[1]))\n",
    "    return res1_norm, res2_norm"
   ]
  },
  {
   "cell_type": "code",
   "execution_count": 7,
   "metadata": {},
   "outputs": [
    {
     "data": {
      "text/plain": [
       "<Figure size 640x480 with 0 Axes>"
      ]
     },
     "metadata": {},
     "output_type": "display_data"
    },
    {
     "data": {
      "image/png": "[encoded data removed]",
      "text/plain": [
       "<Figure size 640x480 with 1 Axes>"
      ]
     },
     "metadata": {},
     "output_type": "display_data"
    },
    {
     "data": {
      "text/plain": [
       "<Figure size 640x480 with 0 Axes>"
      ]
     },
     "metadata": {},
     "output_type": "display_data"
    },
    {
     "data": {
      "image/png": "[encoded data removed]",
      "text/plain": [
       "<Figure size 640x480 with 1 Axes>"
      ]
     },
     "metadata": {},
     "output_type": "display_data"
    }
   ],
   "source": [
    "#MAIN\n",
    "\n",
    "#On affiche les deux polytopes P et Q\n",
    "%matplotlib inline\n",
    "\n",
    "import matplotlib.pyplot as plt\n",
    "import numpy as np\n",
    "import scipy.spatial\n",
    "import nashpy as nash\n",
    "\n",
    "V = [np.array([0, 0]), np.array([0, 1 / 3]), np.array([1 / 3,  0]), np.array([1 / 4, 1 / 4])]\n",
    "P = scipy.spatial.ConvexHull(V)\n",
    "plt.figure()\n",
    "scipy.spatial.convex_hull_plot_2d(P)\n",
    "plt.title(\"P\")\n",
    "plt.text(0.001, .16, \"Label: 0\")\n",
    "plt.text(0.15, .012, \"Label: 1\")\n",
    "plt.text(0.07, .25, \"Label: 2\")\n",
    "plt.text(0.25, .1, \"Label: 3\")\n",
    "for v, s in zip(V, \"adbc\"):\n",
    "    plt.text(v[0] + 0.001, v[1] + 0.001, s)\n",
    "\n",
    "V = [np.array([0, 0]), np.array([1 / 3 , 0]), np.array([0,  1 / 3]), np.array([1 / 4, 1 / 4])]\n",
    "Q = scipy.spatial.ConvexHull(V)\n",
    "plt.figure()\n",
    "scipy.spatial.convex_hull_plot_2d(Q)\n",
    "plt.title(\"Q\")\n",
    "plt.text(0.001, .13, \"Label: 2\")\n",
    "plt.text(0.14, .012, \"Label: 3\")\n",
    "plt.text(0.12, .25, \"Label: 1\")\n",
    "plt.text(0.22, .119, \"Label: 0\")\n",
    "for v, s in zip(V, \"wxzy\"):\n",
    "    plt.text(v[0] + 0.001, v[1] + 0.001, s)"
   ]
  },
  {
   "cell_type": "code",
   "execution_count": 8,
   "metadata": {},
   "outputs": [
    {
     "name": "stdout",
     "output_type": "stream",
     "text": [
      "state ('a', 'w')\n",
      "drop 2\n",
      "state ('a', 'x')\n",
      "pickup  0\n",
      "drop 0\n",
      "state ('b', 'x')\n",
      "union (0, 1, 3)\n",
      "pickup  3\n",
      "drop 3\n",
      "state ('b', 'y')\n",
      "union (0, 1, 3)\n",
      "pickup  1\n",
      "drop 1\n",
      "state ('c', 'y')\n",
      "union (0, 1, 2, 3)\n",
      "\n",
      "Fully labelled vertex pair\n",
      "Equilibre de NASH à: ('c', 'y')\n",
      "coord:  (0.25, 0.25) (0.25, 0.25)\n",
      "Après normalisation:  (0.5, 0.5) (0.5, 0.5)\n"
     ]
    }
   ],
   "source": [
    "#chaque sommet avec ses labels\n",
    "P_labels = [[\"a\", 0, 1], [\"b\", 1, 3], [\"c\", 3, 2], [\"d\", 2, 0]]\n",
    "Q_labels = [[\"w\", 2, 3], [\"z\", 1, 2], [\"y\", 1, 0], [\"x\", 0, 3]]\n",
    "state = (\"a\", \"w\")\n",
    "#les coordonnées de chaque sommet\n",
    "P_coord = [[\"a\", 0, 0], [\"b\", 1/3, 0], [\"c\", 1/4, 1/4], [\"d\", 0, 1/3]]\n",
    "Q_coord = [[\"w\", 0, 0], [\"z\", 0, 1/3], [\"y\", 1/4, 1/4], [\"x\", 1/3, 0]]\n",
    "\n",
    "#saisir le premier label à supprimer\n",
    "x = input(\"Entrer le numéro du premier label à supprimer:\")\n",
    "\n",
    "print(\"state\", state)\n",
    "print(\"drop \"+ x)\n",
    "#on supprime le premier label\n",
    "drop(P_labels, Q_labels, int(x))\n",
    "print(\"state\", state)\n",
    "#on verifie l'union des label de P et Q si ils sont complets\n",
    "c1, c2 = get_state_tuple(state[0], state[1], P_labels, Q_labels)\n",
    "res = tuple(set(c1 + c2))\n",
    "\n",
    "#TQ l'union de P et Q n'est pas egale à (0, 1, 2, 3)\n",
    "while(res != (0, 1, 2, 3)):\n",
    "    x = pickup(state, P_labels, Q_labels)\n",
    "    print(\"pickup \", x[0])\n",
    "\n",
    "    print(\"drop\", x[0])\n",
    "    drop(P_labels, Q_labels, x[0])\n",
    "    print(\"state\", state)\n",
    "\n",
    "    c1, c2 = get_state_tuple(state[0], state[1], P_labels, Q_labels)\n",
    "    res = tuple(set(c1 + c2))\n",
    "    print(\"union\", res)\n",
    "\n",
    "#On est dans le cas où l'union de P et Q égale à (0, 1, 2, 3)\n",
    "print(\"\\nFully labelled vertex pair\")\n",
    "print(\"Equilibre de NASH à:\", state)\n",
    "r1, r2 = get_Enash(state, P_coord, Q_coord)\n",
    "print(\"Après normalisation: \", r1, r2)"
   ]
  },
  {
   "cell_type": "code",
   "execution_count": 9,
   "metadata": {},
   "outputs": [
    {
     "name": "stdout",
     "output_type": "stream",
     "text": [
      "Equilibre de NASH pour tous les cas de début de suppression des labels:\n"
     ]
    },
    {
     "data": {
      "text/plain": [
       "[(array([0.5, 0.5]), array([0.5, 0.5])),\n",
       " (array([0.5, 0.5]), array([0.5, 0.5])),\n",
       " (array([0.5, 0.5]), array([0.5, 0.5])),\n",
       " (array([0.5, 0.5]), array([0.5, 0.5]))]"
      ]
     },
     "execution_count": 9,
     "metadata": {},
     "output_type": "execute_result"
    }
   ],
   "source": [
    "#Vérification avec la fonction prédéfinie lemke_howson_enumeration()\n",
    "\n",
    "import nashpy as nash\n",
    "\n",
    "A = np.array([[3, 1], [1, 3]])\n",
    "B = np.array([[1, 3], [3, 1]])\n",
    "game = nash.Game(A, B)\n",
    "print(\"Equilibre de NASH pour tous les cas de début de suppression des labels:\")\n",
    "list(game.lemke_howson_enumeration())"
   ]
  },
  {
   "cell_type": "code",
   "execution_count": null,
   "metadata": {},
   "outputs": [],
   "source": []
  }
 ],
 "metadata": {
  "kernelspec": {
   "display_name": "Python 3",
   "language": "python",
   "name": "python3"
  },
  "language_info": {
   "codemirror_mode": {
    "name": "ipython",
    "version": 3
   },
   "file_extension": ".py",
   "mimetype": "text/x-python",
   "name": "python",
   "nbconvert_exporter": "python",
   "pygments_lexer": "ipython3",
   "version": "3.10.9"
  },
  "orig_nbformat": 4,
  "vscode": {
   "interpreter": {
    "hash": "311101c8ebe6475a6dd825e937a36a2cf51be8c09ec2748a01fc4a3d770dcf23"
   }
  }
 },
 "nbformat": 4,
 "nbformat_minor": 2
}
